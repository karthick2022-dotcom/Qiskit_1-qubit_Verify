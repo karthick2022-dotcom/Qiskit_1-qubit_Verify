{
  "cells": [
    {
      "cell_type": "code",
      "execution_count": 1,
      "metadata": {
        "colab": {
          "base_uri": "https://localhost:8080/"
        },
        "id": "Mx6284lurNt1",
        "outputId": "16eccb98-de9a-4de3-da95-4590c286766d"
      },
      "outputs": [
        {
          "name": "stdout",
          "output_type": "stream",
          "text": [
            "Requirement already satisfied: qiskit in c:\\users\\karthik\\appdata\\local\\packages\\pythonsoftwarefoundation.python.3.11_qbz5n2kfra8p0\\localcache\\local-packages\\python311\\site-packages (2.2.1)\n",
            "Requirement already satisfied: qiskit-aer in c:\\users\\karthik\\appdata\\local\\packages\\pythonsoftwarefoundation.python.3.11_qbz5n2kfra8p0\\localcache\\local-packages\\python311\\site-packages (0.17.2)\n",
            "Requirement already satisfied: rustworkx>=0.15.0 in c:\\users\\karthik\\appdata\\local\\packages\\pythonsoftwarefoundation.python.3.11_qbz5n2kfra8p0\\localcache\\local-packages\\python311\\site-packages (from qiskit) (0.17.1)\n",
            "Requirement already satisfied: numpy<3,>=1.17 in c:\\users\\karthik\\appdata\\local\\packages\\pythonsoftwarefoundation.python.3.11_qbz5n2kfra8p0\\localcache\\local-packages\\python311\\site-packages (from qiskit) (2.3.3)\n",
            "Requirement already satisfied: scipy>=1.5 in c:\\users\\karthik\\appdata\\local\\packages\\pythonsoftwarefoundation.python.3.11_qbz5n2kfra8p0\\localcache\\local-packages\\python311\\site-packages (from qiskit) (1.16.2)\n",
            "Requirement already satisfied: dill>=0.3 in c:\\users\\karthik\\appdata\\local\\packages\\pythonsoftwarefoundation.python.3.11_qbz5n2kfra8p0\\localcache\\local-packages\\python311\\site-packages (from qiskit) (0.4.0)\n",
            "Requirement already satisfied: stevedore>=3.0.0 in c:\\users\\karthik\\appdata\\local\\packages\\pythonsoftwarefoundation.python.3.11_qbz5n2kfra8p0\\localcache\\local-packages\\python311\\site-packages (from qiskit) (5.5.0)\n",
            "Requirement already satisfied: typing-extensions in c:\\users\\karthik\\appdata\\local\\packages\\pythonsoftwarefoundation.python.3.11_qbz5n2kfra8p0\\localcache\\local-packages\\python311\\site-packages (from qiskit) (4.15.0)\n",
            "Requirement already satisfied: psutil>=5 in c:\\users\\karthik\\appdata\\local\\packages\\pythonsoftwarefoundation.python.3.11_qbz5n2kfra8p0\\localcache\\local-packages\\python311\\site-packages (from qiskit-aer) (7.1.0)\n",
            "Requirement already satisfied: python-dateutil>=2.8.0 in c:\\users\\karthik\\appdata\\local\\packages\\pythonsoftwarefoundation.python.3.11_qbz5n2kfra8p0\\localcache\\local-packages\\python311\\site-packages (from qiskit-aer) (2.9.0.post0)\n",
            "Requirement already satisfied: six>=1.5 in c:\\users\\karthik\\appdata\\local\\packages\\pythonsoftwarefoundation.python.3.11_qbz5n2kfra8p0\\localcache\\local-packages\\python311\\site-packages (from python-dateutil>=2.8.0->qiskit-aer) (1.17.0)\n"
          ]
        },
        {
          "name": "stderr",
          "output_type": "stream",
          "text": [
            "WARNING: Retrying (Retry(total=4, connect=None, read=None, redirect=None, status=None)) after connection broken by 'NewConnectionError('<pip._vendor.urllib3.connection.HTTPSConnection object at 0x0000026219F32210>: Failed to establish a new connection: [Errno 11001] getaddrinfo failed')': /simple/qiskit/\n",
            "WARNING: Retrying (Retry(total=3, connect=None, read=None, redirect=None, status=None)) after connection broken by 'NewConnectionError('<pip._vendor.urllib3.connection.HTTPSConnection object at 0x0000026219F339D0>: Failed to establish a new connection: [Errno 11001] getaddrinfo failed')': /simple/qiskit/\n",
            "WARNING: Retrying (Retry(total=2, connect=None, read=None, redirect=None, status=None)) after connection broken by 'NewConnectionError('<pip._vendor.urllib3.connection.HTTPSConnection object at 0x0000026219F40210>: Failed to establish a new connection: [Errno 11001] getaddrinfo failed')': /simple/qiskit/\n",
            "WARNING: Retrying (Retry(total=1, connect=None, read=None, redirect=None, status=None)) after connection broken by 'NewConnectionError('<pip._vendor.urllib3.connection.HTTPSConnection object at 0x0000026219F411D0>: Failed to establish a new connection: [Errno 11001] getaddrinfo failed')': /simple/qiskit/\n",
            "WARNING: Retrying (Retry(total=0, connect=None, read=None, redirect=None, status=None)) after connection broken by 'NewConnectionError('<pip._vendor.urllib3.connection.HTTPSConnection object at 0x0000026219F41E50>: Failed to establish a new connection: [Errno 11001] getaddrinfo failed')': /simple/qiskit/\n",
            "WARNING: Retrying (Retry(total=4, connect=None, read=None, redirect=None, status=None)) after connection broken by 'NewConnectionError('<pip._vendor.urllib3.connection.HTTPSConnection object at 0x0000026219F46E90>: Failed to establish a new connection: [Errno 11001] getaddrinfo failed')': /simple/qiskit-aer/\n",
            "WARNING: Retrying (Retry(total=3, connect=None, read=None, redirect=None, status=None)) after connection broken by 'NewConnectionError('<pip._vendor.urllib3.connection.HTTPSConnection object at 0x0000026219F47790>: Failed to establish a new connection: [Errno 11001] getaddrinfo failed')': /simple/qiskit-aer/\n",
            "WARNING: Retrying (Retry(total=2, connect=None, read=None, redirect=None, status=None)) after connection broken by 'NewConnectionError('<pip._vendor.urllib3.connection.HTTPSConnection object at 0x0000026219F47DD0>: Failed to establish a new connection: [Errno 11001] getaddrinfo failed')': /simple/qiskit-aer/\n",
            "WARNING: Retrying (Retry(total=1, connect=None, read=None, redirect=None, status=None)) after connection broken by 'NewConnectionError('<pip._vendor.urllib3.connection.HTTPSConnection object at 0x0000026219F54C50>: Failed to establish a new connection: [Errno 11001] getaddrinfo failed')': /simple/qiskit-aer/\n",
            "WARNING: Retrying (Retry(total=0, connect=None, read=None, redirect=None, status=None)) after connection broken by 'NewConnectionError('<pip._vendor.urllib3.connection.HTTPSConnection object at 0x0000026219F55850>: Failed to establish a new connection: [Errno 11001] getaddrinfo failed')': /simple/qiskit-aer/\n"
          ]
        }
      ],
      "source": [
        "!pip install qiskit qiskit-aer --upgrade"
      ]
    },
    {
      "cell_type": "code",
      "execution_count": 2,
      "metadata": {
        "id": "gI17i0yhrQgz"
      },
      "outputs": [],
      "source": [
        "from qiskit import QuantumCircuit\n",
        "from qiskit_aer import AerSimulator"
      ]
    },
    {
      "cell_type": "code",
      "execution_count": 3,
      "metadata": {
        "colab": {
          "base_uri": "https://localhost:8080/"
        },
        "id": "VPOwLacGrCdU",
        "outputId": "488f6d73-c394-42c0-e27b-202d0d9d6a45"
      },
      "outputs": [
        {
          "name": "stdout",
          "output_type": "stream",
          "text": [
            "Qiskit AerSimulator test (Qiskit 2.x)\n",
            "Circuit:\n",
            "        ┌───┐ ░ ┌─┐\n",
            "     q: ┤ H ├─░─┤M├\n",
            "        └───┘ ░ └╥┘\n",
            "   c: 1/═════════╬═\n",
            "                 ║ \n",
            "meas: 1/═════════╩═\n",
            "                 0 \n",
            "Counts: {'0 0': 525, '1 0': 499}\n"
          ]
        }
      ],
      "source": [
        "# Verify Qiskit 2.x and AerSimulator\n",
        "from qiskit import QuantumCircuit, transpile\n",
        "from qiskit_aer import AerSimulator\n",
        "\n",
        "print(\"Qiskit AerSimulator test (Qiskit 2.x)\")\n",
        "\n",
        "# simple circuit: create superposition and measure\n",
        "qc = QuantumCircuit(1, 1)\n",
        "qc.h(0)\n",
        "qc.measure_all()\n",
        "\n",
        "print(\"Circuit:\")\n",
        "print(qc.draw())\n",
        "\n",
        "# run on AerSimulator\n",
        "sim = AerSimulator()\n",
        "# compile/transpile for the simulator\n",
        "tqc = transpile(qc, sim)\n",
        "job = sim.run(tqc, shots=1024)\n",
        "result = job.result()\n",
        "counts = result.get_counts()\n",
        "print(\"Counts:\", counts)"
      ]
    },
    {
      "cell_type": "markdown",
      "metadata": {
        "id": "y2OHLiOivc15"
      },
      "source": [
        "**1: Single-Qubit Superposition (Change Number of Shots)**"
      ]
    },
    {
      "cell_type": "code",
      "execution_count": 4,
      "metadata": {
        "colab": {
          "base_uri": "https://localhost:8080/"
        },
        "id": "wQ8lQMYYtbQu",
        "outputId": "9334bb80-9278-4a03-e674-4a592168b866"
      },
      "outputs": [
        {
          "name": "stdout",
          "output_type": "stream",
          "text": [
            "Task 1: Single-Qubit Superposition (Varying Shots)\n",
            "------------------------------------------------------------\n",
            "Shots:    10 | Counts: {'0': 5, '1': 5} | 0:  50.0% | 1:  50.0%\n",
            "Shots:   100 | Counts: {'0': 49, '1': 51} | 0:  49.0% | 1:  51.0%\n",
            "Shots:  1000 | Counts: {'0': 514, '1': 486} | 0:  51.4% | 1:  48.6%\n",
            "Shots: 10000 | Counts: {'1': 5079, '0': 4921} | 0:  49.2% | 1:  50.8%\n"
          ]
        }
      ],
      "source": [
        "from qiskit import QuantumCircuit, transpile\n",
        "from qiskit_aer import AerSimulator\n",
        "\n",
        "print(\"Task 1: Single-Qubit Superposition (Varying Shots)\")\n",
        "print(\"-\" * 60)\n",
        "\n",
        "sim = AerSimulator(seed_simulator=42)\n",
        "\n",
        "qc = QuantumCircuit(1)\n",
        "qc.h(0)\n",
        "qc.measure_all()\n",
        "\n",
        "shot_counts = [10, 100, 1000, 10000]\n",
        "\n",
        "for shots in shot_counts:\n",
        "    tqc = transpile(qc, sim)\n",
        "    job = sim.run(tqc, shots=shots)\n",
        "    result = job.result()\n",
        "    counts = result.get_counts()\n",
        "\n",
        "    total = sum(counts.values())\n",
        "    zero_pct = counts.get('0', 0) / total * 100\n",
        "    one_pct = counts.get('1', 0) / total * 100\n",
        "\n",
        "    print(f\"Shots: {shots:5d} | Counts: {counts} | 0: {zero_pct:5.1f}% | 1: {one_pct:5.1f}%\")\n"
      ]
    },
    {
      "cell_type": "code",
      "execution_count": 5,
      "metadata": {
        "colab": {
          "base_uri": "https://localhost:8080/"
        },
        "id": "_gozWRZUtoiG",
        "outputId": "817722ee-7802-40f9-f29e-6349f2e072b6"
      },
      "outputs": [
        {
          "name": "stdout",
          "output_type": "stream",
          "text": [
            "Two-qubit superposition: {'00 00': 243, '10 00': 278, '01 00': 272, '11 00': 231}\n"
          ]
        }
      ],
      "source": [
        "qc = QuantumCircuit(2, 2)\n",
        "qc.h(0)\n",
        "qc.h(1)\n",
        "qc.measure_all()\n",
        "\n",
        "tqc = transpile(qc, sim)\n",
        "job = sim.run(tqc, shots=1024)\n",
        "counts = job.result().get_counts()\n",
        "print(\"Two-qubit superposition:\", counts)\n"
      ]
    },
    {
      "cell_type": "markdown",
      "metadata": {
        "id": "gO_CAAGlv3M7"
      },
      "source": [
        "2: Two-Qubit **Superposition**"
      ]
    },
    {
      "cell_type": "code",
      "execution_count": 6,
      "metadata": {
        "colab": {
          "base_uri": "https://localhost:8080/"
        },
        "id": "_oFJiOf-urPz",
        "outputId": "9afd8537-dc66-4673-c242-656fc94099ff"
      },
      "outputs": [
        {
          "name": "stdout",
          "output_type": "stream",
          "text": [
            "Task 2: Two-Qubit Superposition\n",
            "------------------------------------------------------------\n",
            "Circuit:\n",
            "        ┌───┐ ░ ┌─┐   \n",
            "   q_0: ┤ H ├─░─┤M├───\n",
            "        ├───┤ ░ └╥┘┌─┐\n",
            "   q_1: ┤ H ├─░──╫─┤M├\n",
            "        └───┘ ░  ║ └╥┘\n",
            "meas: 2/═════════╩══╩═\n",
            "                 0  1 \n",
            "\n",
            "Counts (10000 shots): {'01': 2569, '11': 2499, '00': 2447, '10': 2485}\n",
            "State 00: 2447 ( 24.5%)\n",
            "State 01: 2569 ( 25.7%)\n",
            "State 10: 2485 ( 24.9%)\n",
            "State 11: 2499 ( 25.0%)\n"
          ]
        }
      ],
      "source": [
        "from qiskit import QuantumCircuit, transpile\n",
        "from qiskit_aer import AerSimulator\n",
        "\n",
        "print(\"Task 2: Two-Qubit Superposition\")\n",
        "print(\"-\" * 60)\n",
        "\n",
        "sim = AerSimulator(seed_simulator=42)\n",
        "\n",
        "qc = QuantumCircuit(2)\n",
        "qc.h(0)\n",
        "qc.h(1)\n",
        "qc.measure_all()\n",
        "\n",
        "tqc = transpile(qc, sim)\n",
        "job = sim.run(tqc, shots=10000)\n",
        "result = job.result()\n",
        "counts = result.get_counts()\n",
        "\n",
        "print(\"Circuit:\")\n",
        "print(qc.draw())\n",
        "\n",
        "total = sum(counts.values())\n",
        "print(\"\\nCounts (10000 shots):\", counts)\n",
        "\n",
        "for state in ['00', '01', '10', '11']:\n",
        "    pct = counts.get(state, 0) / total * 100\n",
        "    print(f\"State {state}: {counts.get(state, 0):4d} ({pct:5.1f}%)\")\n"
      ]
    },
    {
      "cell_type": "markdown",
      "metadata": {
        "id": "8S1sUfMowDXE"
      },
      "source": [
        "**3: Entangled State (Bell State)**"
      ]
    },
    {
      "cell_type": "code",
      "execution_count": 7,
      "metadata": {
        "colab": {
          "base_uri": "https://localhost:8080/"
        },
        "id": "qbcOp4Patt4i",
        "outputId": "b166c5cf-71e0-49f9-e52d-c61fe1464d9e"
      },
      "outputs": [
        {
          "name": "stdout",
          "output_type": "stream",
          "text": [
            "Task 3: Entangled State (Bell State)\n",
            "------------------------------------------------------------\n",
            "Circuit:\n",
            "        ┌───┐      ░ ┌─┐   \n",
            "   q_0: ┤ H ├──■───░─┤M├───\n",
            "        └───┘┌─┴─┐ ░ └╥┘┌─┐\n",
            "   q_1: ─────┤ X ├─░──╫─┤M├\n",
            "             └───┘ ░  ║ └╥┘\n",
            "meas: 2/══════════════╩══╩═\n",
            "                      0  1 \n",
            "\n",
            "Counts (1000 shots): {'11': 490, '00': 510}\n",
            "Observed states: ['11', '00']\n"
          ]
        }
      ],
      "source": [
        "from qiskit import QuantumCircuit, transpile\n",
        "from qiskit_aer import AerSimulator\n",
        "\n",
        "print(\"Task 3: Entangled State (Bell State)\")\n",
        "print(\"-\" * 60)\n",
        "\n",
        "sim = AerSimulator(seed_simulator=42)\n",
        "\n",
        "qc = QuantumCircuit(2)\n",
        "qc.h(0)\n",
        "qc.cx(0, 1)  # Create entanglement\n",
        "qc.measure_all()\n",
        "\n",
        "tqc = transpile(qc, sim)\n",
        "job = sim.run(tqc, shots=1000)\n",
        "result = job.result()\n",
        "counts = result.get_counts()\n",
        "\n",
        "print(\"Circuit:\")\n",
        "print(qc.draw())\n",
        "print(f\"\\nCounts (1000 shots): {counts}\")\n",
        "print(\"Observed states:\", list(counts.keys()))\n"
      ]
    },
    {
      "cell_type": "markdown",
      "metadata": {
        "id": "6oC7Eye-wRVU"
      },
      "source": [
        "### **4: X Gate (Classical Behavior)**"
      ]
    },
    {
      "cell_type": "code",
      "execution_count": 8,
      "metadata": {
        "colab": {
          "base_uri": "https://localhost:8080/"
        },
        "id": "Pcbl9rAvtzR6",
        "outputId": "2acae58a-bb70-45ac-bb81-9447e927d6be"
      },
      "outputs": [
        {
          "name": "stdout",
          "output_type": "stream",
          "text": [
            "Task 4: X Gate (Always 1)\n",
            "------------------------------------------------------------\n",
            "Circuit:\n",
            "        ┌───┐ ░ ┌─┐\n",
            "     q: ┤ X ├─░─┤M├\n",
            "        └───┘ ░ └╥┘\n",
            "meas: 1/═════════╩═\n",
            "                 0 \n",
            "\n",
            "Counts (100 shots): {'1': 100}\n"
          ]
        }
      ],
      "source": [
        "from qiskit import QuantumCircuit, transpile\n",
        "from qiskit_aer import AerSimulator\n",
        "\n",
        "print(\"Task 4: X Gate (Always 1)\")\n",
        "print(\"-\" * 60)\n",
        "\n",
        "sim = AerSimulator(seed_simulator=42)\n",
        "\n",
        "qc = QuantumCircuit(1)\n",
        "qc.x(0)           # Apply NOT gate\n",
        "qc.measure_all()\n",
        "\n",
        "tqc = transpile(qc, sim)\n",
        "job = sim.run(tqc, shots=100)\n",
        "result = job.result()\n",
        "counts = result.get_counts()\n",
        "\n",
        "print(\"Circuit:\")\n",
        "print(qc.draw())\n",
        "print(f\"\\nCounts (100 shots): {counts}\")\n"
      ]
    },
    {
      "cell_type": "markdown",
      "metadata": {
        "id": "U1u31mqYwoU6"
      },
      "source": [
        "**5: Three-Qubit Superposition (Challenge)**"
      ]
    },
    {
      "cell_type": "code",
      "execution_count": 9,
      "metadata": {
        "colab": {
          "base_uri": "https://localhost:8080/"
        },
        "id": "BGGczCdLt7_u",
        "outputId": "96160864-9665-4b7b-d2d1-9c824a127b7d"
      },
      "outputs": [
        {
          "name": "stdout",
          "output_type": "stream",
          "text": [
            "Task 5: Three-Qubit Superposition (Challenge)\n",
            "------------------------------------------------------------\n",
            "Circuit:\n",
            "        ┌───┐ ░ ┌─┐      \n",
            "   q_0: ┤ H ├─░─┤M├──────\n",
            "        ├───┤ ░ └╥┘┌─┐   \n",
            "   q_1: ┤ H ├─░──╫─┤M├───\n",
            "        ├───┤ ░  ║ └╥┘┌─┐\n",
            "   q_2: ┤ H ├─░──╫──╫─┤M├\n",
            "        └───┘ ░  ║  ║ └╥┘\n",
            "meas: 3/═════════╩══╩══╩═\n",
            "                 0  1  2 \n",
            "\n",
            "State   | Count  | Percentage\n",
            "------------------------------\n",
            "000     |   973 |  12.16%\n",
            "001     |  1025 |  12.81%\n",
            "010     |   975 |  12.19%\n",
            "011     |  1016 |  12.70%\n",
            "100     |  1013 |  12.66%\n",
            "101     |  1046 |  13.08%\n",
            "110     |   960 |  12.00%\n",
            "111     |   992 |  12.40%\n"
          ]
        }
      ],
      "source": [
        "from qiskit import QuantumCircuit, transpile\n",
        "from qiskit_aer import AerSimulator\n",
        "\n",
        "print(\"Task 5: Three-Qubit Superposition (Challenge)\")\n",
        "print(\"-\" * 60)\n",
        "\n",
        "sim = AerSimulator(seed_simulator=42)\n",
        "\n",
        "qc = QuantumCircuit(3)\n",
        "qc.h(0)\n",
        "qc.h(1)\n",
        "qc.h(2)\n",
        "qc.measure_all()\n",
        "\n",
        "tqc = transpile(qc, sim)\n",
        "job = sim.run(tqc, shots=8000)\n",
        "result = job.result()\n",
        "counts = result.get_counts()\n",
        "\n",
        "print(\"Circuit:\")\n",
        "print(qc.draw())\n",
        "print(\"\\nState   | Count  | Percentage\")\n",
        "print(\"-\" * 30)\n",
        "\n",
        "total = sum(counts.values())\n",
        "expected_states = ['000','001','010','011','100','101','110','111']\n",
        "\n",
        "for state in expected_states:\n",
        "    count = counts.get(state, 0)\n",
        "    pct = count / total * 100\n",
        "    print(f\"{state}     | {count:5d} | {pct:6.2f}%\")\n"
      ]
    }
  ],
  "metadata": {
    "colab": {
      "provenance": []
    },
    "kernelspec": {
      "display_name": "Python 3",
      "name": "python3"
    },
    "language_info": {
      "codemirror_mode": {
        "name": "ipython",
        "version": 3
      },
      "file_extension": ".py",
      "mimetype": "text/x-python",
      "name": "python",
      "nbconvert_exporter": "python",
      "pygments_lexer": "ipython3",
      "version": "3.11.9"
    }
  },
  "nbformat": 4,
  "nbformat_minor": 0
}
